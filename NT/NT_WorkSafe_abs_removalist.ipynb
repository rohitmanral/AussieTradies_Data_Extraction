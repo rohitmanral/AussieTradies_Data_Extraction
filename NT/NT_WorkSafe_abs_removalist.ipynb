{
 "cells": [
  {
   "cell_type": "code",
   "execution_count": null,
   "metadata": {},
   "outputs": [],
   "source": []
  },
  {
   "cell_type": "code",
   "execution_count": 1,
   "metadata": {},
   "outputs": [],
   "source": [
    "import selenium\n",
    "import time\n",
    "from selenium import webdriver\n",
    "\n",
    "from bs4 import BeautifulSoup\n",
    "import pandas as pd"
   ]
  },
  {
   "cell_type": "markdown",
   "metadata": {},
   "source": [
    "## Ignoring Warnings"
   ]
  },
  {
   "cell_type": "code",
   "execution_count": 2,
   "metadata": {},
   "outputs": [],
   "source": [
    "import warnings\n",
    "warnings.filterwarnings('ignore')"
   ]
  },
  {
   "cell_type": "markdown",
   "metadata": {},
   "source": [
    "# NT WorkSafe- Asbestos removalists"
   ]
  },
  {
   "cell_type": "markdown",
   "metadata": {},
   "source": [
    "The following businesses are licensed to remove asbestos under the work health and safety legislation.​\n",
    "\n",
    "You can use the search functionality to search for an asbestos removalist by asbestos class or company name.\n",
    "\n",
    "## Class A licence\n",
    "The class A licence allows for removal of friable asbestos, non friable asbestos and any asbestos contaminated dust or debris (ACD).\n",
    "\n",
    "## Class B licence\n",
    "The class B licence allows for removal of 10 square metres or more of non friable asbestos, like fibro sheets. This licence only allows for removal of the asbestos contaminated dust or debris (ACD) that is directly associated with the removal of non friable asbestos."
   ]
  },
  {
   "cell_type": "code",
   "execution_count": null,
   "metadata": {},
   "outputs": [],
   "source": []
  },
  {
   "cell_type": "code",
   "execution_count": 3,
   "metadata": {},
   "outputs": [],
   "source": [
    "driver = webdriver.Chrome('/Users/rohit_manral/Downloads/chromedriver')"
   ]
  },
  {
   "cell_type": "code",
   "execution_count": 32,
   "metadata": {},
   "outputs": [],
   "source": [
    "driver.get('https://worksafe.nt.gov.au/safety-and-prevention/asbestos/asbestos-removalist')"
   ]
  },
  {
   "cell_type": "code",
   "execution_count": 5,
   "metadata": {},
   "outputs": [],
   "source": [
    "driver.find_element_by_xpath('//*[@id=\"removalists_length\"]/label/select/option[6]').click()"
   ]
  },
  {
   "cell_type": "code",
   "execution_count": null,
   "metadata": {},
   "outputs": [],
   "source": []
  },
  {
   "cell_type": "code",
   "execution_count": 6,
   "metadata": {},
   "outputs": [
    {
     "data": {
      "text/plain": [
       "'Showing 1 to 32 of 32 entries'"
      ]
     },
     "execution_count": 6,
     "metadata": {},
     "output_type": "execute_result"
    }
   ],
   "source": [
    "entries=driver.find_element_by_xpath('//*[@id=\"removalists_info\"]').text\n",
    "entries"
   ]
  },
  {
   "cell_type": "code",
   "execution_count": 7,
   "metadata": {},
   "outputs": [
    {
     "data": {
      "text/plain": [
       "32"
      ]
     },
     "execution_count": 7,
     "metadata": {},
     "output_type": "execute_result"
    }
   ],
   "source": [
    "a=entries.split(' ')\n",
    "rows=int(a[-2])\n",
    "rows"
   ]
  },
  {
   "cell_type": "code",
   "execution_count": null,
   "metadata": {},
   "outputs": [],
   "source": []
  },
  {
   "cell_type": "markdown",
   "metadata": {},
   "source": [
    "## xpaths setup  \n",
    "\n",
    "//*[@id=\"removalists\"]/tbody/tr[1]/td[1]  \n",
    "//*[@id=\"removalists\"]/tbody/tr[3]/td[1]   \n",
    "\n",
    "\n",
    "\n",
    "\n",
    "\n",
    "//*[@id=\"removalists\"]/tbody/tr[63]/td[1]"
   ]
  },
  {
   "cell_type": "code",
   "execution_count": null,
   "metadata": {},
   "outputs": [],
   "source": []
  },
  {
   "cell_type": "code",
   "execution_count": 8,
   "metadata": {},
   "outputs": [
    {
     "name": "stdout",
     "output_type": "stream",
     "text": [
      "[1, 3, 5, 7, 9, 11, 13, 15, 17, 19, 21, 23, 25, 27, 29, 31, 33, 35, 37, 39, 41, 43, 45, 47, 49, 51, 53, 55, 57, 59, 61, 63]\n",
      "32\n"
     ]
    }
   ],
   "source": [
    "xpaths_n=[]\n",
    "for i in range(1,2*rows):\n",
    "    if i%2!=0:\n",
    "        xpaths_n.append(i)\n",
    "print(xpaths_n)\n",
    "print(len(xpaths_n))"
   ]
  },
  {
   "cell_type": "code",
   "execution_count": 9,
   "metadata": {},
   "outputs": [],
   "source": [
    "xpaths=[]\n",
    "for j in xpaths_n: #creating xpaths: just change span[i] to click different links\n",
    "    xpaths.append('//*[@id=\"removalists\"]/tbody/tr[' + str(j) + ']/td[1]')\n",
    "#print(xpaths) "
   ]
  },
  {
   "cell_type": "code",
   "execution_count": 10,
   "metadata": {},
   "outputs": [
    {
     "data": {
      "text/plain": [
       "32"
      ]
     },
     "execution_count": 10,
     "metadata": {},
     "output_type": "execute_result"
    }
   ],
   "source": [
    "len(xpaths)"
   ]
  },
  {
   "cell_type": "code",
   "execution_count": 11,
   "metadata": {},
   "outputs": [],
   "source": [
    "for k in range(0,len(xpaths)):\n",
    "    driver.find_element_by_xpath(xpaths[k]).click()"
   ]
  },
  {
   "cell_type": "code",
   "execution_count": 12,
   "metadata": {},
   "outputs": [
    {
     "data": {
      "text/plain": [
       "['',\n",
       " 'Alawa Plumbing Pty Ltd',\n",
       " 'B',\n",
       " 'Contact:Helen MakrylosPhone:(08) 8947 3317Email:admin@alawaplumbing.com.au',\n",
       " 'Contact:',\n",
       " 'Helen Makrylos',\n",
       " 'Phone:',\n",
       " '(08) 8947 3317',\n",
       " 'Email:',\n",
       " 'admin@alawaplumbing.com.au',\n",
       " '',\n",
       " 'Alice Demolitions',\n",
       " 'B',\n",
       " 'Contact:Simon CastlePhone:0499 191 945Email:alicedemolition@gmail.com',\n",
       " 'Contact:',\n",
       " 'Simon Castle',\n",
       " 'Phone:',\n",
       " '0499 191 945',\n",
       " 'Email:',\n",
       " 'alicedemolition@gmail.com',\n",
       " '',\n",
       " 'All About Demolition Services NT',\n",
       " 'B',\n",
       " 'Contact:Alan MaherPhone:0456 399 077Email:alan.maher@outlook.com',\n",
       " 'Contact:',\n",
       " 'Alan Maher',\n",
       " 'Phone:',\n",
       " '0456 399 077',\n",
       " 'Email:',\n",
       " 'alan.maher@outlook.com',\n",
       " '',\n",
       " 'All Hours Group Pty Ltd',\n",
       " 'B',\n",
       " 'Contact:David LihPhone:(08) 8947 3391Email:david.lih@allhoursnt.com.au',\n",
       " 'Contact:',\n",
       " 'David Lih',\n",
       " 'Phone:',\n",
       " '(08) 8947 3391',\n",
       " 'Email:',\n",
       " 'david.lih@allhoursnt.com.au',\n",
       " '',\n",
       " 'Ant Asbestos Solutions Pty Ltd',\n",
       " 'A',\n",
       " 'Contact:Anthony LillicrapPhone:0419 333 694Email:admin@antconstruction.com.au',\n",
       " 'Contact:',\n",
       " 'Anthony Lillicrap',\n",
       " 'Phone:',\n",
       " '0419 333 694',\n",
       " 'Email:',\n",
       " 'admin@antconstruction.com.au',\n",
       " '',\n",
       " 'ANT Galactic Pty Ltd',\n",
       " 'A',\n",
       " 'Contact:Melissa SimsPhone:08 8947 1692Email:admin@a-n-t.com.au',\n",
       " 'Contact:',\n",
       " 'Melissa Sims',\n",
       " 'Phone:',\n",
       " '08 8947 1692',\n",
       " 'Email:',\n",
       " 'admin@a-n-t.com.au',\n",
       " '',\n",
       " 'ANZ Enviro Pty Ltd',\n",
       " 'A',\n",
       " 'Contact:Shaun LeechPhone:(08) 9445 8275Email:',\n",
       " 'Contact:',\n",
       " 'Shaun Leech',\n",
       " 'Phone:',\n",
       " '(08) 9445 8275',\n",
       " 'Email:',\n",
       " '',\n",
       " '',\n",
       " 'Asbestos Roof Removals',\n",
       " 'B',\n",
       " 'Contact:Robert ParesPhone:0400 858 686Email:',\n",
       " 'Contact:',\n",
       " 'Robert Pares',\n",
       " 'Phone:',\n",
       " '0400 858 686',\n",
       " 'Email:',\n",
       " '',\n",
       " '',\n",
       " 'Asbestos Solutions NT',\n",
       " 'A',\n",
       " 'Contact:Ken JonesPhone:0451 832 064Email:ken@asbestossolutionsnt.com.au',\n",
       " 'Contact:',\n",
       " 'Ken Jones',\n",
       " 'Phone:',\n",
       " '0451 832 064',\n",
       " 'Email:',\n",
       " 'ken@asbestossolutionsnt.com.au',\n",
       " '',\n",
       " 'Atkin Building Co Pty Ltd',\n",
       " 'B',\n",
       " 'Contact:Nigel AtkinPhone:0438 722 783Email:atkinbuild@yahoo.com',\n",
       " 'Contact:',\n",
       " 'Nigel Atkin',\n",
       " 'Phone:',\n",
       " '0438 722 783',\n",
       " 'Email:',\n",
       " 'atkinbuild@yahoo.com',\n",
       " '',\n",
       " 'Aztech Services Australia',\n",
       " 'A',\n",
       " 'Contact:Adrian PumfreyPhone:1300 722 511Email:hseq@aztechservices.com.au',\n",
       " 'Contact:',\n",
       " 'Adrian Pumfrey',\n",
       " 'Phone:',\n",
       " '1300 722 511',\n",
       " 'Email:',\n",
       " 'hseq@aztechservices.com.au',\n",
       " '',\n",
       " 'Best Construction Pty Ltd',\n",
       " 'B',\n",
       " 'Contact:Shaun BestPhone:0427 008 234Email:bestcontracting@outlook.com',\n",
       " 'Contact:',\n",
       " 'Shaun Best',\n",
       " 'Phone:',\n",
       " '0427 008 234',\n",
       " 'Email:',\n",
       " 'bestcontracting@outlook.com',\n",
       " '',\n",
       " 'BIG Carpentry Pty Ltd',\n",
       " 'B',\n",
       " 'Contact:Donna Marie GrievePhone:0438 175 013Email:big.carpentry@bigpond.com',\n",
       " 'Contact:',\n",
       " 'Donna Marie Grieve',\n",
       " 'Phone:',\n",
       " '0438 175 013',\n",
       " 'Email:',\n",
       " 'big.carpentry@bigpond.com',\n",
       " '',\n",
       " 'Consort Civil Pty Ltd',\n",
       " 'B',\n",
       " 'Contact:Andrew ClarkPhone:0427 971 931Email:admin@chamberseng.com.au',\n",
       " 'Contact:',\n",
       " 'Andrew Clark',\n",
       " 'Phone:',\n",
       " '0427 971 931',\n",
       " 'Email:',\n",
       " 'admin@chamberseng.com.au',\n",
       " '',\n",
       " 'Creative Tiling',\n",
       " 'B',\n",
       " 'Contact:Michael PikosPhone:0410 062 621Email:creative.tiling@bigpond.com',\n",
       " 'Contact:',\n",
       " 'Michael Pikos',\n",
       " 'Phone:',\n",
       " '0410 062 621',\n",
       " 'Email:',\n",
       " 'creative.tiling@bigpond.com',\n",
       " '',\n",
       " 'Darwin Asbestos and Demolition Services',\n",
       " 'A',\n",
       " 'Contact:Peter YoungerPhone:0439 509 757Email:info@darwinasbestos.com.au',\n",
       " 'Contact:',\n",
       " 'Peter Younger',\n",
       " 'Phone:',\n",
       " '0439 509 757',\n",
       " 'Email:',\n",
       " 'info@darwinasbestos.com.au',\n",
       " '',\n",
       " 'DKB COMMS',\n",
       " 'B',\n",
       " 'Contact:Des BrownPhone:0427 408 394Email:dkbcomms@pac.com.au',\n",
       " 'Contact:',\n",
       " 'Des Brown',\n",
       " 'Phone:',\n",
       " '0427 408 394',\n",
       " 'Email:',\n",
       " 'dkbcomms@pac.com.au',\n",
       " '',\n",
       " 'Dundee Rock Services Pty Ltd',\n",
       " 'B',\n",
       " 'Contact:Michael AthanasiouPhone:0418 893 622Email:michael@dundeerockservices.com.au',\n",
       " 'Contact:',\n",
       " 'Michael Athanasiou',\n",
       " 'Phone:',\n",
       " '0418 893 622',\n",
       " 'Email:',\n",
       " 'michael@dundeerockservices.com.au',\n",
       " '',\n",
       " 'JAC Asbestos Removal Pty Ltd',\n",
       " 'A',\n",
       " 'Contact:Robert VilePhone:(08) 8931 4322Email:b.vile@jacrockett.com.au',\n",
       " 'Contact:',\n",
       " 'Robert Vile',\n",
       " 'Phone:',\n",
       " '(08) 8931 4322',\n",
       " 'Email:',\n",
       " 'b.vile@jacrockett.com.au',\n",
       " '',\n",
       " 'Jatate Pty Ltd',\n",
       " 'A',\n",
       " 'Contact:Terry HaugheyPhone:0418 829 366Email:bricks2dust@westnet.com.au',\n",
       " 'Contact:',\n",
       " 'Terry Haughey',\n",
       " 'Phone:',\n",
       " '0418 829 366',\n",
       " 'Email:',\n",
       " 'bricks2dust@westnet.com.au',\n",
       " '',\n",
       " 'JN Mousellis Civil Contractors Pty Ltd',\n",
       " 'B',\n",
       " 'Contact:Peter MousellisPhone:0410 552 235Email:peter@jnmousellis.com',\n",
       " 'Contact:',\n",
       " 'Peter Mousellis',\n",
       " 'Phone:',\n",
       " '0410 552 235',\n",
       " 'Email:',\n",
       " 'peter@jnmousellis.com',\n",
       " '',\n",
       " 'John Bedwell Management Pty Ltd',\n",
       " 'B',\n",
       " 'Contact:Paul GynellPhone:0439 800 204Email:paul.gynell@jbmgove.com.au',\n",
       " 'Contact:',\n",
       " 'Paul Gynell',\n",
       " 'Phone:',\n",
       " '0439 800 204',\n",
       " 'Email:',\n",
       " 'paul.gynell@jbmgove.com.au',\n",
       " '',\n",
       " 'JSM Civils Pty Ltd',\n",
       " 'B',\n",
       " 'Contact:Phone:0418 940 764Email:admin@jsmcivils.com.au',\n",
       " 'Contact:',\n",
       " '',\n",
       " 'Phone:',\n",
       " '0418 940 764',\n",
       " 'Email:',\n",
       " 'admin@jsmcivils.com.au',\n",
       " '',\n",
       " 'Kennelly Constructions Pty Ltd',\n",
       " 'A',\n",
       " 'Contact:Kris SharpePhone:08 8984 4163Email:kris.sharpe@kennelly.com.au',\n",
       " 'Contact:',\n",
       " 'Kris Sharpe',\n",
       " 'Phone:',\n",
       " '08 8984 4163',\n",
       " 'Email:',\n",
       " 'kris.sharpe@kennelly.com.au',\n",
       " '',\n",
       " 'Mcmahon Services NT',\n",
       " 'A',\n",
       " 'Contact:Grant OehlmanPhone:0423 493 574Email:grant.oehlman@mcmservices.com.au',\n",
       " 'Contact:',\n",
       " 'Grant Oehlman',\n",
       " 'Phone:',\n",
       " '0423 493 574',\n",
       " 'Email:',\n",
       " 'grant.oehlman@mcmservices.com.au',\n",
       " '',\n",
       " 'Mousellis & Sons Pty Ltd',\n",
       " 'B',\n",
       " 'Contact:John MousellisPhone:0418 895 233Email:mousellis@mousellis.com.au',\n",
       " 'Contact:',\n",
       " 'John Mousellis',\n",
       " 'Phone:',\n",
       " '0418 895 233',\n",
       " 'Email:',\n",
       " 'mousellis@mousellis.com.au',\n",
       " '',\n",
       " 'Nicholl Constructions',\n",
       " 'B',\n",
       " 'Contact:Cameron NichollPhone:(08) 8953 0634Email:admin@nichollconstructions.com.au',\n",
       " 'Contact:',\n",
       " 'Cameron Nicholl',\n",
       " 'Phone:',\n",
       " '(08) 8953 0634',\n",
       " 'Email:',\n",
       " 'admin@nichollconstructions.com.au',\n",
       " '',\n",
       " 'Northern Trade Solutions',\n",
       " 'A',\n",
       " 'Contact:Gerry KoukouvasPhone:0459 035 600Email:gerry@ntsnt.com.au',\n",
       " 'Contact:',\n",
       " 'Gerry Koukouvas',\n",
       " 'Phone:',\n",
       " '0459 035 600',\n",
       " 'Email:',\n",
       " 'gerry@ntsnt.com.au',\n",
       " '',\n",
       " 'NT Asbestos Removal',\n",
       " 'B',\n",
       " 'Contact:Phone:(08) 8932 7388Email:ntwss@bigpond.net.au',\n",
       " 'Contact:',\n",
       " '',\n",
       " 'Phone:',\n",
       " '(08) 8932 7388',\n",
       " 'Email:',\n",
       " 'ntwss@bigpond.net.au',\n",
       " '',\n",
       " 'Precision Group NT Pty Ltd',\n",
       " 'B',\n",
       " 'Contact:Chris KantrosPhone:0448 658 348Email:ckantros@precisiongroupnt.com.au',\n",
       " 'Contact:',\n",
       " 'Chris Kantros',\n",
       " 'Phone:',\n",
       " '0448 658 348',\n",
       " 'Email:',\n",
       " 'ckantros@precisiongroupnt.com.au',\n",
       " '',\n",
       " 'Prompt Demolitions',\n",
       " 'B',\n",
       " 'Contact:Peter CromptonPhone:0404 019 433Email:admin@promptdemolitions.com.au',\n",
       " 'Contact:',\n",
       " 'Peter Crompton',\n",
       " 'Phone:',\n",
       " '0404 019 433',\n",
       " 'Email:',\n",
       " 'admin@promptdemolitions.com.au',\n",
       " '',\n",
       " 'S&R Building and Construction Pty Ltd',\n",
       " 'B',\n",
       " 'Contact:Marc RenshawPhone:(08) 8952 2500Email:marc@srbuilding.com',\n",
       " 'Contact:',\n",
       " 'Marc Renshaw',\n",
       " 'Phone:',\n",
       " '(08) 8952 2500',\n",
       " 'Email:',\n",
       " 'marc@srbuilding.com']"
      ]
     },
     "execution_count": 12,
     "metadata": {},
     "output_type": "execute_result"
    }
   ],
   "source": [
    "page_source = driver.page_source\n",
    "soup =  BeautifulSoup(page_source, 'lxml')\n",
    "\n",
    "in_data = [i.text for i in soup.findAll('td')]\n",
    "in_data"
   ]
  },
  {
   "cell_type": "markdown",
   "metadata": {},
   "source": [
    "## Company Name"
   ]
  },
  {
   "cell_type": "code",
   "execution_count": 13,
   "metadata": {},
   "outputs": [],
   "source": [
    "cn_data=in_data[1:]\n",
    "#cn_data"
   ]
  },
  {
   "cell_type": "code",
   "execution_count": 14,
   "metadata": {},
   "outputs": [
    {
     "data": {
      "text/plain": [
       "['Alawa Plumbing Pty Ltd',\n",
       " 'Alice Demolitions',\n",
       " 'All About Demolition Services NT',\n",
       " 'All Hours Group Pty Ltd',\n",
       " 'Ant Asbestos Solutions Pty Ltd',\n",
       " 'ANT Galactic Pty Ltd',\n",
       " 'ANZ Enviro Pty Ltd',\n",
       " 'Asbestos Roof Removals',\n",
       " 'Asbestos Solutions NT',\n",
       " 'Atkin Building Co Pty Ltd',\n",
       " 'Aztech Services Australia',\n",
       " 'Best Construction Pty Ltd',\n",
       " 'BIG Carpentry Pty Ltd',\n",
       " 'Consort Civil Pty Ltd',\n",
       " 'Creative Tiling',\n",
       " 'Darwin Asbestos and Demolition Services',\n",
       " 'DKB COMMS',\n",
       " 'Dundee Rock Services Pty Ltd',\n",
       " 'JAC Asbestos Removal Pty Ltd',\n",
       " 'Jatate Pty Ltd',\n",
       " 'JN Mousellis Civil Contractors Pty Ltd',\n",
       " 'John Bedwell Management Pty Ltd',\n",
       " 'JSM Civils Pty Ltd',\n",
       " 'Kennelly Constructions Pty Ltd',\n",
       " 'Mcmahon Services NT',\n",
       " 'Mousellis & Sons Pty Ltd',\n",
       " 'Nicholl Constructions',\n",
       " 'Northern Trade Solutions',\n",
       " 'NT Asbestos Removal',\n",
       " 'Precision Group NT Pty Ltd',\n",
       " 'Prompt Demolitions',\n",
       " 'S&R Building and Construction Pty Ltd']"
      ]
     },
     "execution_count": 14,
     "metadata": {},
     "output_type": "execute_result"
    }
   ],
   "source": [
    "Company_name=cn_data[::10]\n",
    "Company_name"
   ]
  },
  {
   "cell_type": "code",
   "execution_count": 15,
   "metadata": {},
   "outputs": [
    {
     "data": {
      "text/plain": [
       "32"
      ]
     },
     "execution_count": 15,
     "metadata": {},
     "output_type": "execute_result"
    }
   ],
   "source": [
    "len(Company_name)"
   ]
  },
  {
   "cell_type": "markdown",
   "metadata": {},
   "source": [
    "## Class"
   ]
  },
  {
   "cell_type": "code",
   "execution_count": 16,
   "metadata": {},
   "outputs": [],
   "source": [
    "cl_data=in_data[2:]\n",
    "#cl_data"
   ]
  },
  {
   "cell_type": "code",
   "execution_count": 17,
   "metadata": {},
   "outputs": [
    {
     "data": {
      "text/plain": [
       "['B',\n",
       " 'B',\n",
       " 'B',\n",
       " 'B',\n",
       " 'A',\n",
       " 'A',\n",
       " 'A',\n",
       " 'B',\n",
       " 'A',\n",
       " 'B',\n",
       " 'A',\n",
       " 'B',\n",
       " 'B',\n",
       " 'B',\n",
       " 'B',\n",
       " 'A',\n",
       " 'B',\n",
       " 'B',\n",
       " 'A',\n",
       " 'A',\n",
       " 'B',\n",
       " 'B',\n",
       " 'B',\n",
       " 'A',\n",
       " 'A',\n",
       " 'B',\n",
       " 'B',\n",
       " 'A',\n",
       " 'B',\n",
       " 'B',\n",
       " 'B',\n",
       " 'B']"
      ]
     },
     "execution_count": 17,
     "metadata": {},
     "output_type": "execute_result"
    }
   ],
   "source": [
    "Class=cl_data[::10]\n",
    "Class"
   ]
  },
  {
   "cell_type": "code",
   "execution_count": 18,
   "metadata": {},
   "outputs": [
    {
     "data": {
      "text/plain": [
       "32"
      ]
     },
     "execution_count": 18,
     "metadata": {},
     "output_type": "execute_result"
    }
   ],
   "source": [
    "len(Class)"
   ]
  },
  {
   "cell_type": "markdown",
   "metadata": {},
   "source": [
    "## Contact"
   ]
  },
  {
   "cell_type": "code",
   "execution_count": 19,
   "metadata": {},
   "outputs": [],
   "source": [
    "co_data=in_data[5:]\n",
    "#co_data"
   ]
  },
  {
   "cell_type": "code",
   "execution_count": 20,
   "metadata": {},
   "outputs": [
    {
     "data": {
      "text/plain": [
       "['Helen Makrylos',\n",
       " 'Simon Castle',\n",
       " 'Alan Maher',\n",
       " 'David Lih',\n",
       " 'Anthony Lillicrap',\n",
       " 'Melissa Sims',\n",
       " 'Shaun Leech',\n",
       " 'Robert Pares',\n",
       " 'Ken Jones',\n",
       " 'Nigel Atkin',\n",
       " 'Adrian Pumfrey',\n",
       " 'Shaun Best',\n",
       " 'Donna Marie Grieve',\n",
       " 'Andrew Clark',\n",
       " 'Michael Pikos',\n",
       " 'Peter Younger',\n",
       " 'Des Brown',\n",
       " 'Michael Athanasiou',\n",
       " 'Robert Vile',\n",
       " 'Terry Haughey',\n",
       " 'Peter Mousellis',\n",
       " 'Paul Gynell',\n",
       " '',\n",
       " 'Kris Sharpe',\n",
       " 'Grant Oehlman',\n",
       " 'John Mousellis',\n",
       " 'Cameron Nicholl',\n",
       " 'Gerry Koukouvas',\n",
       " '',\n",
       " 'Chris Kantros',\n",
       " 'Peter Crompton',\n",
       " 'Marc Renshaw']"
      ]
     },
     "execution_count": 20,
     "metadata": {},
     "output_type": "execute_result"
    }
   ],
   "source": [
    "Contact=co_data[::10]\n",
    "Contact"
   ]
  },
  {
   "cell_type": "code",
   "execution_count": 21,
   "metadata": {},
   "outputs": [
    {
     "data": {
      "text/plain": [
       "32"
      ]
     },
     "execution_count": 21,
     "metadata": {},
     "output_type": "execute_result"
    }
   ],
   "source": [
    "len(Contact)"
   ]
  },
  {
   "cell_type": "markdown",
   "metadata": {},
   "source": [
    "## Phone"
   ]
  },
  {
   "cell_type": "code",
   "execution_count": 22,
   "metadata": {},
   "outputs": [],
   "source": [
    "ph_data=in_data[7:]\n",
    "#ph_data"
   ]
  },
  {
   "cell_type": "code",
   "execution_count": 23,
   "metadata": {},
   "outputs": [
    {
     "data": {
      "text/plain": [
       "['(08) 8947 3317',\n",
       " '0499 191 945',\n",
       " '0456 399 077',\n",
       " '(08) 8947 3391',\n",
       " '0419 333 694',\n",
       " '08 8947 1692',\n",
       " '(08) 9445 8275',\n",
       " '0400 858 686',\n",
       " '0451 832 064',\n",
       " '0438 722 783',\n",
       " '1300 722 511',\n",
       " '0427 008 234',\n",
       " '0438 175 013',\n",
       " '0427 971 931',\n",
       " '0410 062 621',\n",
       " '0439 509 757',\n",
       " '0427 408 394',\n",
       " '0418 893 622',\n",
       " '(08) 8931 4322',\n",
       " '0418 829 366',\n",
       " '0410 552 235',\n",
       " '0439 800 204',\n",
       " '0418 940 764',\n",
       " '08 8984 4163',\n",
       " '0423 493 574',\n",
       " '0418 895 233',\n",
       " '(08) 8953 0634',\n",
       " '0459 035 600',\n",
       " '(08) 8932 7388',\n",
       " '0448 658 348',\n",
       " '0404 019 433',\n",
       " '(08) 8952 2500']"
      ]
     },
     "execution_count": 23,
     "metadata": {},
     "output_type": "execute_result"
    }
   ],
   "source": [
    "Phone=ph_data[::10]\n",
    "Phone"
   ]
  },
  {
   "cell_type": "code",
   "execution_count": 24,
   "metadata": {},
   "outputs": [
    {
     "data": {
      "text/plain": [
       "32"
      ]
     },
     "execution_count": 24,
     "metadata": {},
     "output_type": "execute_result"
    }
   ],
   "source": [
    "len(Phone)"
   ]
  },
  {
   "cell_type": "markdown",
   "metadata": {},
   "source": [
    "## Email"
   ]
  },
  {
   "cell_type": "code",
   "execution_count": 25,
   "metadata": {},
   "outputs": [],
   "source": [
    "em_data=in_data[9:]\n",
    "#em_data"
   ]
  },
  {
   "cell_type": "code",
   "execution_count": 26,
   "metadata": {},
   "outputs": [
    {
     "data": {
      "text/plain": [
       "['admin@alawaplumbing.com.au',\n",
       " 'alicedemolition@gmail.com',\n",
       " 'alan.maher@outlook.com',\n",
       " 'david.lih@allhoursnt.com.au',\n",
       " 'admin@antconstruction.com.au',\n",
       " 'admin@a-n-t.com.au',\n",
       " '',\n",
       " '',\n",
       " 'ken@asbestossolutionsnt.com.au',\n",
       " 'atkinbuild@yahoo.com',\n",
       " 'hseq@aztechservices.com.au',\n",
       " 'bestcontracting@outlook.com',\n",
       " 'big.carpentry@bigpond.com',\n",
       " 'admin@chamberseng.com.au',\n",
       " 'creative.tiling@bigpond.com',\n",
       " 'info@darwinasbestos.com.au',\n",
       " 'dkbcomms@pac.com.au',\n",
       " 'michael@dundeerockservices.com.au',\n",
       " 'b.vile@jacrockett.com.au',\n",
       " 'bricks2dust@westnet.com.au',\n",
       " 'peter@jnmousellis.com',\n",
       " 'paul.gynell@jbmgove.com.au',\n",
       " 'admin@jsmcivils.com.au',\n",
       " 'kris.sharpe@kennelly.com.au',\n",
       " 'grant.oehlman@mcmservices.com.au',\n",
       " 'mousellis@mousellis.com.au',\n",
       " 'admin@nichollconstructions.com.au',\n",
       " 'gerry@ntsnt.com.au',\n",
       " 'ntwss@bigpond.net.au',\n",
       " 'ckantros@precisiongroupnt.com.au',\n",
       " 'admin@promptdemolitions.com.au',\n",
       " 'marc@srbuilding.com']"
      ]
     },
     "execution_count": 26,
     "metadata": {},
     "output_type": "execute_result"
    }
   ],
   "source": [
    "Email=em_data[::10]\n",
    "Email"
   ]
  },
  {
   "cell_type": "code",
   "execution_count": 27,
   "metadata": {},
   "outputs": [
    {
     "data": {
      "text/plain": [
       "32"
      ]
     },
     "execution_count": 27,
     "metadata": {},
     "output_type": "execute_result"
    }
   ],
   "source": [
    "len(Email)"
   ]
  },
  {
   "cell_type": "markdown",
   "metadata": {},
   "source": [
    "## Creating final Dataframe"
   ]
  },
  {
   "cell_type": "code",
   "execution_count": 28,
   "metadata": {},
   "outputs": [
    {
     "data": {
      "text/html": [
       "<div>\n",
       "<style scoped>\n",
       "    .dataframe tbody tr th:only-of-type {\n",
       "        vertical-align: middle;\n",
       "    }\n",
       "\n",
       "    .dataframe tbody tr th {\n",
       "        vertical-align: top;\n",
       "    }\n",
       "\n",
       "    .dataframe thead th {\n",
       "        text-align: right;\n",
       "    }\n",
       "</style>\n",
       "<table border=\"1\" class=\"dataframe\">\n",
       "  <thead>\n",
       "    <tr style=\"text-align: right;\">\n",
       "      <th></th>\n",
       "      <th>Company_name</th>\n",
       "      <th>Class</th>\n",
       "      <th>Contact</th>\n",
       "      <th>Phone</th>\n",
       "      <th>Email</th>\n",
       "    </tr>\n",
       "  </thead>\n",
       "  <tbody>\n",
       "    <tr>\n",
       "      <th>0</th>\n",
       "      <td>Alawa Plumbing Pty Ltd</td>\n",
       "      <td>B</td>\n",
       "      <td>Helen Makrylos</td>\n",
       "      <td>(08) 8947 3317</td>\n",
       "      <td>admin@alawaplumbing.com.au</td>\n",
       "    </tr>\n",
       "    <tr>\n",
       "      <th>1</th>\n",
       "      <td>Alice Demolitions</td>\n",
       "      <td>B</td>\n",
       "      <td>Simon Castle</td>\n",
       "      <td>0499 191 945</td>\n",
       "      <td>alicedemolition@gmail.com</td>\n",
       "    </tr>\n",
       "    <tr>\n",
       "      <th>2</th>\n",
       "      <td>All About Demolition Services NT</td>\n",
       "      <td>B</td>\n",
       "      <td>Alan Maher</td>\n",
       "      <td>0456 399 077</td>\n",
       "      <td>alan.maher@outlook.com</td>\n",
       "    </tr>\n",
       "    <tr>\n",
       "      <th>3</th>\n",
       "      <td>All Hours Group Pty Ltd</td>\n",
       "      <td>B</td>\n",
       "      <td>David Lih</td>\n",
       "      <td>(08) 8947 3391</td>\n",
       "      <td>david.lih@allhoursnt.com.au</td>\n",
       "    </tr>\n",
       "    <tr>\n",
       "      <th>4</th>\n",
       "      <td>Ant Asbestos Solutions Pty Ltd</td>\n",
       "      <td>A</td>\n",
       "      <td>Anthony Lillicrap</td>\n",
       "      <td>0419 333 694</td>\n",
       "      <td>admin@antconstruction.com.au</td>\n",
       "    </tr>\n",
       "    <tr>\n",
       "      <th>5</th>\n",
       "      <td>ANT Galactic Pty Ltd</td>\n",
       "      <td>A</td>\n",
       "      <td>Melissa Sims</td>\n",
       "      <td>08 8947 1692</td>\n",
       "      <td>admin@a-n-t.com.au</td>\n",
       "    </tr>\n",
       "    <tr>\n",
       "      <th>6</th>\n",
       "      <td>ANZ Enviro Pty Ltd</td>\n",
       "      <td>A</td>\n",
       "      <td>Shaun Leech</td>\n",
       "      <td>(08) 9445 8275</td>\n",
       "      <td></td>\n",
       "    </tr>\n",
       "    <tr>\n",
       "      <th>7</th>\n",
       "      <td>Asbestos Roof Removals</td>\n",
       "      <td>B</td>\n",
       "      <td>Robert Pares</td>\n",
       "      <td>0400 858 686</td>\n",
       "      <td></td>\n",
       "    </tr>\n",
       "    <tr>\n",
       "      <th>8</th>\n",
       "      <td>Asbestos Solutions NT</td>\n",
       "      <td>A</td>\n",
       "      <td>Ken Jones</td>\n",
       "      <td>0451 832 064</td>\n",
       "      <td>ken@asbestossolutionsnt.com.au</td>\n",
       "    </tr>\n",
       "    <tr>\n",
       "      <th>9</th>\n",
       "      <td>Atkin Building Co Pty Ltd</td>\n",
       "      <td>B</td>\n",
       "      <td>Nigel Atkin</td>\n",
       "      <td>0438 722 783</td>\n",
       "      <td>atkinbuild@yahoo.com</td>\n",
       "    </tr>\n",
       "    <tr>\n",
       "      <th>10</th>\n",
       "      <td>Aztech Services Australia</td>\n",
       "      <td>A</td>\n",
       "      <td>Adrian Pumfrey</td>\n",
       "      <td>1300 722 511</td>\n",
       "      <td>hseq@aztechservices.com.au</td>\n",
       "    </tr>\n",
       "    <tr>\n",
       "      <th>11</th>\n",
       "      <td>Best Construction Pty Ltd</td>\n",
       "      <td>B</td>\n",
       "      <td>Shaun Best</td>\n",
       "      <td>0427 008 234</td>\n",
       "      <td>bestcontracting@outlook.com</td>\n",
       "    </tr>\n",
       "    <tr>\n",
       "      <th>12</th>\n",
       "      <td>BIG Carpentry Pty Ltd</td>\n",
       "      <td>B</td>\n",
       "      <td>Donna Marie Grieve</td>\n",
       "      <td>0438 175 013</td>\n",
       "      <td>big.carpentry@bigpond.com</td>\n",
       "    </tr>\n",
       "    <tr>\n",
       "      <th>13</th>\n",
       "      <td>Consort Civil Pty Ltd</td>\n",
       "      <td>B</td>\n",
       "      <td>Andrew Clark</td>\n",
       "      <td>0427 971 931</td>\n",
       "      <td>admin@chamberseng.com.au</td>\n",
       "    </tr>\n",
       "    <tr>\n",
       "      <th>14</th>\n",
       "      <td>Creative Tiling</td>\n",
       "      <td>B</td>\n",
       "      <td>Michael Pikos</td>\n",
       "      <td>0410 062 621</td>\n",
       "      <td>creative.tiling@bigpond.com</td>\n",
       "    </tr>\n",
       "    <tr>\n",
       "      <th>15</th>\n",
       "      <td>Darwin Asbestos and Demolition Services</td>\n",
       "      <td>A</td>\n",
       "      <td>Peter Younger</td>\n",
       "      <td>0439 509 757</td>\n",
       "      <td>info@darwinasbestos.com.au</td>\n",
       "    </tr>\n",
       "    <tr>\n",
       "      <th>16</th>\n",
       "      <td>DKB COMMS</td>\n",
       "      <td>B</td>\n",
       "      <td>Des Brown</td>\n",
       "      <td>0427 408 394</td>\n",
       "      <td>dkbcomms@pac.com.au</td>\n",
       "    </tr>\n",
       "    <tr>\n",
       "      <th>17</th>\n",
       "      <td>Dundee Rock Services Pty Ltd</td>\n",
       "      <td>B</td>\n",
       "      <td>Michael Athanasiou</td>\n",
       "      <td>0418 893 622</td>\n",
       "      <td>michael@dundeerockservices.com.au</td>\n",
       "    </tr>\n",
       "    <tr>\n",
       "      <th>18</th>\n",
       "      <td>JAC Asbestos Removal Pty Ltd</td>\n",
       "      <td>A</td>\n",
       "      <td>Robert Vile</td>\n",
       "      <td>(08) 8931 4322</td>\n",
       "      <td>b.vile@jacrockett.com.au</td>\n",
       "    </tr>\n",
       "    <tr>\n",
       "      <th>19</th>\n",
       "      <td>Jatate Pty Ltd</td>\n",
       "      <td>A</td>\n",
       "      <td>Terry Haughey</td>\n",
       "      <td>0418 829 366</td>\n",
       "      <td>bricks2dust@westnet.com.au</td>\n",
       "    </tr>\n",
       "    <tr>\n",
       "      <th>20</th>\n",
       "      <td>JN Mousellis Civil Contractors Pty Ltd</td>\n",
       "      <td>B</td>\n",
       "      <td>Peter Mousellis</td>\n",
       "      <td>0410 552 235</td>\n",
       "      <td>peter@jnmousellis.com</td>\n",
       "    </tr>\n",
       "    <tr>\n",
       "      <th>21</th>\n",
       "      <td>John Bedwell Management Pty Ltd</td>\n",
       "      <td>B</td>\n",
       "      <td>Paul Gynell</td>\n",
       "      <td>0439 800 204</td>\n",
       "      <td>paul.gynell@jbmgove.com.au</td>\n",
       "    </tr>\n",
       "    <tr>\n",
       "      <th>22</th>\n",
       "      <td>JSM Civils Pty Ltd</td>\n",
       "      <td>B</td>\n",
       "      <td></td>\n",
       "      <td>0418 940 764</td>\n",
       "      <td>admin@jsmcivils.com.au</td>\n",
       "    </tr>\n",
       "    <tr>\n",
       "      <th>23</th>\n",
       "      <td>Kennelly Constructions Pty Ltd</td>\n",
       "      <td>A</td>\n",
       "      <td>Kris Sharpe</td>\n",
       "      <td>08 8984 4163</td>\n",
       "      <td>kris.sharpe@kennelly.com.au</td>\n",
       "    </tr>\n",
       "    <tr>\n",
       "      <th>24</th>\n",
       "      <td>Mcmahon Services NT</td>\n",
       "      <td>A</td>\n",
       "      <td>Grant Oehlman</td>\n",
       "      <td>0423 493 574</td>\n",
       "      <td>grant.oehlman@mcmservices.com.au</td>\n",
       "    </tr>\n",
       "    <tr>\n",
       "      <th>25</th>\n",
       "      <td>Mousellis &amp; Sons Pty Ltd</td>\n",
       "      <td>B</td>\n",
       "      <td>John Mousellis</td>\n",
       "      <td>0418 895 233</td>\n",
       "      <td>mousellis@mousellis.com.au</td>\n",
       "    </tr>\n",
       "    <tr>\n",
       "      <th>26</th>\n",
       "      <td>Nicholl Constructions</td>\n",
       "      <td>B</td>\n",
       "      <td>Cameron Nicholl</td>\n",
       "      <td>(08) 8953 0634</td>\n",
       "      <td>admin@nichollconstructions.com.au</td>\n",
       "    </tr>\n",
       "    <tr>\n",
       "      <th>27</th>\n",
       "      <td>Northern Trade Solutions</td>\n",
       "      <td>A</td>\n",
       "      <td>Gerry Koukouvas</td>\n",
       "      <td>0459 035 600</td>\n",
       "      <td>gerry@ntsnt.com.au</td>\n",
       "    </tr>\n",
       "    <tr>\n",
       "      <th>28</th>\n",
       "      <td>NT Asbestos Removal</td>\n",
       "      <td>B</td>\n",
       "      <td></td>\n",
       "      <td>(08) 8932 7388</td>\n",
       "      <td>ntwss@bigpond.net.au</td>\n",
       "    </tr>\n",
       "    <tr>\n",
       "      <th>29</th>\n",
       "      <td>Precision Group NT Pty Ltd</td>\n",
       "      <td>B</td>\n",
       "      <td>Chris Kantros</td>\n",
       "      <td>0448 658 348</td>\n",
       "      <td>ckantros@precisiongroupnt.com.au</td>\n",
       "    </tr>\n",
       "    <tr>\n",
       "      <th>30</th>\n",
       "      <td>Prompt Demolitions</td>\n",
       "      <td>B</td>\n",
       "      <td>Peter Crompton</td>\n",
       "      <td>0404 019 433</td>\n",
       "      <td>admin@promptdemolitions.com.au</td>\n",
       "    </tr>\n",
       "    <tr>\n",
       "      <th>31</th>\n",
       "      <td>S&amp;R Building and Construction Pty Ltd</td>\n",
       "      <td>B</td>\n",
       "      <td>Marc Renshaw</td>\n",
       "      <td>(08) 8952 2500</td>\n",
       "      <td>marc@srbuilding.com</td>\n",
       "    </tr>\n",
       "  </tbody>\n",
       "</table>\n",
       "</div>"
      ],
      "text/plain": [
       "                               Company_name Class             Contact  \\\n",
       "0                    Alawa Plumbing Pty Ltd     B      Helen Makrylos   \n",
       "1                         Alice Demolitions     B        Simon Castle   \n",
       "2          All About Demolition Services NT     B          Alan Maher   \n",
       "3                   All Hours Group Pty Ltd     B           David Lih   \n",
       "4            Ant Asbestos Solutions Pty Ltd     A   Anthony Lillicrap   \n",
       "5                      ANT Galactic Pty Ltd     A        Melissa Sims   \n",
       "6                        ANZ Enviro Pty Ltd     A         Shaun Leech   \n",
       "7                    Asbestos Roof Removals     B        Robert Pares   \n",
       "8                     Asbestos Solutions NT     A           Ken Jones   \n",
       "9                 Atkin Building Co Pty Ltd     B         Nigel Atkin   \n",
       "10                Aztech Services Australia     A      Adrian Pumfrey   \n",
       "11                Best Construction Pty Ltd     B          Shaun Best   \n",
       "12                    BIG Carpentry Pty Ltd     B  Donna Marie Grieve   \n",
       "13                    Consort Civil Pty Ltd     B        Andrew Clark   \n",
       "14                          Creative Tiling     B       Michael Pikos   \n",
       "15  Darwin Asbestos and Demolition Services     A       Peter Younger   \n",
       "16                                DKB COMMS     B           Des Brown   \n",
       "17             Dundee Rock Services Pty Ltd     B  Michael Athanasiou   \n",
       "18             JAC Asbestos Removal Pty Ltd     A         Robert Vile   \n",
       "19                           Jatate Pty Ltd     A       Terry Haughey   \n",
       "20   JN Mousellis Civil Contractors Pty Ltd     B     Peter Mousellis   \n",
       "21          John Bedwell Management Pty Ltd     B         Paul Gynell   \n",
       "22                       JSM Civils Pty Ltd     B                       \n",
       "23           Kennelly Constructions Pty Ltd     A         Kris Sharpe   \n",
       "24                      Mcmahon Services NT     A       Grant Oehlman   \n",
       "25                 Mousellis & Sons Pty Ltd     B      John Mousellis   \n",
       "26                    Nicholl Constructions     B     Cameron Nicholl   \n",
       "27                 Northern Trade Solutions     A     Gerry Koukouvas   \n",
       "28                      NT Asbestos Removal     B                       \n",
       "29               Precision Group NT Pty Ltd     B       Chris Kantros   \n",
       "30                       Prompt Demolitions     B      Peter Crompton   \n",
       "31    S&R Building and Construction Pty Ltd     B        Marc Renshaw   \n",
       "\n",
       "             Phone                              Email  \n",
       "0   (08) 8947 3317         admin@alawaplumbing.com.au  \n",
       "1     0499 191 945          alicedemolition@gmail.com  \n",
       "2     0456 399 077             alan.maher@outlook.com  \n",
       "3   (08) 8947 3391        david.lih@allhoursnt.com.au  \n",
       "4     0419 333 694       admin@antconstruction.com.au  \n",
       "5     08 8947 1692                 admin@a-n-t.com.au  \n",
       "6   (08) 9445 8275                                     \n",
       "7     0400 858 686                                     \n",
       "8     0451 832 064     ken@asbestossolutionsnt.com.au  \n",
       "9     0438 722 783               atkinbuild@yahoo.com  \n",
       "10    1300 722 511         hseq@aztechservices.com.au  \n",
       "11    0427 008 234        bestcontracting@outlook.com  \n",
       "12    0438 175 013          big.carpentry@bigpond.com  \n",
       "13    0427 971 931           admin@chamberseng.com.au  \n",
       "14    0410 062 621        creative.tiling@bigpond.com  \n",
       "15    0439 509 757         info@darwinasbestos.com.au  \n",
       "16    0427 408 394                dkbcomms@pac.com.au  \n",
       "17    0418 893 622  michael@dundeerockservices.com.au  \n",
       "18  (08) 8931 4322           b.vile@jacrockett.com.au  \n",
       "19    0418 829 366         bricks2dust@westnet.com.au  \n",
       "20    0410 552 235              peter@jnmousellis.com  \n",
       "21    0439 800 204         paul.gynell@jbmgove.com.au  \n",
       "22    0418 940 764             admin@jsmcivils.com.au  \n",
       "23    08 8984 4163        kris.sharpe@kennelly.com.au  \n",
       "24    0423 493 574   grant.oehlman@mcmservices.com.au  \n",
       "25    0418 895 233         mousellis@mousellis.com.au  \n",
       "26  (08) 8953 0634  admin@nichollconstructions.com.au  \n",
       "27    0459 035 600                 gerry@ntsnt.com.au  \n",
       "28  (08) 8932 7388               ntwss@bigpond.net.au  \n",
       "29    0448 658 348   ckantros@precisiongroupnt.com.au  \n",
       "30    0404 019 433     admin@promptdemolitions.com.au  \n",
       "31  (08) 8952 2500                marc@srbuilding.com  "
      ]
     },
     "execution_count": 28,
     "metadata": {},
     "output_type": "execute_result"
    }
   ],
   "source": [
    "df = pd.DataFrame(list(zip(Company_name, Class, Contact, Phone, Email)),\n",
    "               columns =['Company_name', 'Class', 'Contact', 'Phone', 'Email'])\n",
    "df"
   ]
  },
  {
   "cell_type": "code",
   "execution_count": 29,
   "metadata": {},
   "outputs": [
    {
     "data": {
      "text/plain": [
       "(32, 5)"
      ]
     },
     "execution_count": 29,
     "metadata": {},
     "output_type": "execute_result"
    }
   ],
   "source": [
    "df.shape"
   ]
  },
  {
   "cell_type": "code",
   "execution_count": 30,
   "metadata": {},
   "outputs": [
    {
     "data": {
      "text/plain": [
       "Index(['Company_name', 'Class', 'Contact', 'Phone', 'Email'], dtype='object')"
      ]
     },
     "execution_count": 30,
     "metadata": {},
     "output_type": "execute_result"
    }
   ],
   "source": [
    "df.columns"
   ]
  },
  {
   "cell_type": "code",
   "execution_count": null,
   "metadata": {},
   "outputs": [],
   "source": []
  },
  {
   "cell_type": "code",
   "execution_count": 31,
   "metadata": {},
   "outputs": [],
   "source": [
    "df.to_csv('NT_workSafe_asbestos_removalists.csv')"
   ]
  },
  {
   "cell_type": "code",
   "execution_count": null,
   "metadata": {},
   "outputs": [],
   "source": []
  }
 ],
 "metadata": {
  "kernelspec": {
   "display_name": "Python 3 (ipykernel)",
   "language": "python",
   "name": "python3"
  },
  "language_info": {
   "codemirror_mode": {
    "name": "ipython",
    "version": 3
   },
   "file_extension": ".py",
   "mimetype": "text/x-python",
   "name": "python",
   "nbconvert_exporter": "python",
   "pygments_lexer": "ipython3",
   "version": "3.9.7"
  }
 },
 "nbformat": 4,
 "nbformat_minor": 2
}
