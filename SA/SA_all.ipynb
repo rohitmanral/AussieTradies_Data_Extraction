{
 "cells": [
  {
   "cell_type": "code",
   "execution_count": null,
   "id": "f3c18538",
   "metadata": {},
   "outputs": [],
   "source": []
  },
  {
   "cell_type": "markdown",
   "id": "2e234d73",
   "metadata": {},
   "source": [
    "# `South Australia`"
   ]
  },
  {
   "cell_type": "code",
   "execution_count": null,
   "id": "88383196",
   "metadata": {},
   "outputs": [],
   "source": []
  },
  {
   "cell_type": "code",
   "execution_count": null,
   "id": "08fadb89",
   "metadata": {},
   "outputs": [],
   "source": []
  },
  {
   "cell_type": "markdown",
   "id": "7bb859b8",
   "metadata": {},
   "source": [
    "## Consumer & Business Services   \n",
    "https://secure.cbs.sa.gov.au/OccLicPubReg/LicenceSearch.php?_ga=2.42650272.480309064.1651803429-414795731.1651803429"
   ]
  },
  {
   "cell_type": "code",
   "execution_count": null,
   "id": "3ace5dcb",
   "metadata": {},
   "outputs": [],
   "source": []
  },
  {
   "cell_type": "code",
   "execution_count": null,
   "id": "a3c5eaa5",
   "metadata": {},
   "outputs": [],
   "source": []
  },
  {
   "cell_type": "code",
   "execution_count": null,
   "id": "6af0ded1",
   "metadata": {},
   "outputs": [],
   "source": []
  },
  {
   "cell_type": "code",
   "execution_count": null,
   "id": "16a22bab",
   "metadata": {},
   "outputs": [],
   "source": []
  },
  {
   "cell_type": "markdown",
   "id": "5f702874",
   "metadata": {},
   "source": [
    "## 1) `Builders`  \n",
    "\n",
    "https://secure.cbs.sa.gov.au/OccLicPubReg/LicenceDetails.php?LicClassCode=BLD&LicNum= **number** "
   ]
  },
  {
   "cell_type": "code",
   "execution_count": null,
   "id": "9b9f889d",
   "metadata": {},
   "outputs": [],
   "source": []
  },
  {
   "cell_type": "code",
   "execution_count": null,
   "id": "d348787b",
   "metadata": {},
   "outputs": [],
   "source": []
  },
  {
   "cell_type": "markdown",
   "id": "b35e7eb3",
   "metadata": {},
   "source": [
    "## 2) `CONVEYANCERS`  \n",
    "\n",
    "https://secure.cbs.sa.gov.au/OccLicPubReg/LicenceDetails.php?LicClassCode=RCO&LicNum= **number** "
   ]
  },
  {
   "cell_type": "code",
   "execution_count": null,
   "id": "27bbbeac",
   "metadata": {},
   "outputs": [],
   "source": []
  },
  {
   "cell_type": "markdown",
   "id": "a1c63d26",
   "metadata": {},
   "source": [
    "## 3) `Labour Hire`  \n",
    "\n",
    "https://secure.cbs.sa.gov.au/OccLicPubReg/LicenceDetails.php?LicClassCode=LHS&LicNum= **number** "
   ]
  },
  {
   "cell_type": "code",
   "execution_count": null,
   "id": "37c1f077",
   "metadata": {},
   "outputs": [],
   "source": []
  },
  {
   "cell_type": "code",
   "execution_count": null,
   "id": "81f6c5aa",
   "metadata": {},
   "outputs": [],
   "source": []
  },
  {
   "cell_type": "markdown",
   "id": "a6b212d1",
   "metadata": {},
   "source": [
    "## 4) `Land Agents`  \n",
    "\n",
    "https://secure.cbs.sa.gov.au/OccLicPubReg/LicenceDetails.php?LicClassCode=RLA&LicNum= **number** "
   ]
  },
  {
   "cell_type": "code",
   "execution_count": null,
   "id": "8c068ba4",
   "metadata": {},
   "outputs": [],
   "source": []
  },
  {
   "cell_type": "markdown",
   "id": "e38e101f",
   "metadata": {},
   "source": [
    "## 5) `Property Manager`  \n",
    "\n",
    "https://secure.cbs.sa.gov.au/OccLicPubReg/LicenceDetails.php?LicClassCode=RPM&LicNum= **number** "
   ]
  },
  {
   "cell_type": "code",
   "execution_count": null,
   "id": "3ac47cd2",
   "metadata": {},
   "outputs": [],
   "source": []
  },
  {
   "cell_type": "markdown",
   "id": "8bf95222",
   "metadata": {},
   "source": [
    "## 6) `Land Sales Representatives`  \n",
    "\n",
    "https://secure.cbs.sa.gov.au/OccLicPubReg/LicenceDetails.php?LicClassCode=RSR&LicNum= **number** "
   ]
  },
  {
   "cell_type": "code",
   "execution_count": null,
   "id": "796f94bc",
   "metadata": {},
   "outputs": [],
   "source": []
  },
  {
   "cell_type": "markdown",
   "id": "ddfd3e86",
   "metadata": {},
   "source": [
    "## 7) `Plumbers, Gas fitters & Electricians`  \n",
    "\n",
    "https://secure.cbs.sa.gov.au/OccLicPubReg/LicenceDetails.php?LicClassCode=PGE&LicNum= **number** "
   ]
  },
  {
   "cell_type": "code",
   "execution_count": null,
   "id": "f0822d51",
   "metadata": {},
   "outputs": [],
   "source": []
  },
  {
   "cell_type": "markdown",
   "id": "084f25ad",
   "metadata": {},
   "source": [
    "## 8) `Second-hand Motor Vehicle Dealers`  \n",
    "\n",
    "https://secure.cbs.sa.gov.au/OccLicPubReg/LicenceDetails.php?LicClassCode=MVD&LicNum= **number** "
   ]
  },
  {
   "cell_type": "code",
   "execution_count": null,
   "id": "d588ce09",
   "metadata": {},
   "outputs": [],
   "source": []
  },
  {
   "cell_type": "code",
   "execution_count": null,
   "id": "4e5d43ed",
   "metadata": {},
   "outputs": [],
   "source": []
  },
  {
   "cell_type": "markdown",
   "id": "171ea05c",
   "metadata": {},
   "source": [
    "## 9) `Security & Investigation Agents`  \n",
    "\n",
    "https://secure.cbs.sa.gov.au/OccLicPubReg/LicenceDetails.php?LicClassCode=ISL&LicNum= **number** "
   ]
  },
  {
   "cell_type": "code",
   "execution_count": null,
   "id": "2de8e23d",
   "metadata": {},
   "outputs": [],
   "source": []
  },
  {
   "cell_type": "code",
   "execution_count": null,
   "id": "e6b0cd64",
   "metadata": {},
   "outputs": [],
   "source": []
  },
  {
   "cell_type": "code",
   "execution_count": null,
   "id": "45704230",
   "metadata": {},
   "outputs": [],
   "source": []
  }
 ],
 "metadata": {
  "kernelspec": {
   "display_name": "Python 3 (ipykernel)",
   "language": "python",
   "name": "python3"
  },
  "language_info": {
   "codemirror_mode": {
    "name": "ipython",
    "version": 3
   },
   "file_extension": ".py",
   "mimetype": "text/x-python",
   "name": "python",
   "nbconvert_exporter": "python",
   "pygments_lexer": "ipython3",
   "version": "3.9.7"
  }
 },
 "nbformat": 4,
 "nbformat_minor": 5
}
