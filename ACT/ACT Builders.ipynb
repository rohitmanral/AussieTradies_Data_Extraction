{
 "cells": [
  {
   "cell_type": "code",
   "execution_count": null,
   "id": "5842a92a",
   "metadata": {},
   "outputs": [],
   "source": []
  },
  {
   "cell_type": "code",
   "execution_count": null,
   "id": "f0b4d349",
   "metadata": {},
   "outputs": [],
   "source": []
  },
  {
   "cell_type": "markdown",
   "id": "9e011a26",
   "metadata": {},
   "source": [
    "https://www.accesscanberra.act.gov.au/s/contstruction-professionals"
   ]
  },
  {
   "cell_type": "code",
   "execution_count": null,
   "id": "65fdf0ab",
   "metadata": {},
   "outputs": [],
   "source": []
  },
  {
   "cell_type": "code",
   "execution_count": null,
   "id": "2cc0c060",
   "metadata": {},
   "outputs": [],
   "source": [
    "import selenium\n",
    "import time\n",
    "from selenium import webdriver\n",
    "\n",
    "from bs4 import BeautifulSoup\n",
    "import pandas as pd"
   ]
  },
  {
   "cell_type": "code",
   "execution_count": null,
   "id": "b9be47f1",
   "metadata": {},
   "outputs": [],
   "source": []
  },
  {
   "cell_type": "markdown",
   "id": "8213c644",
   "metadata": {},
   "source": [
    "## Ignoring Warnings"
   ]
  },
  {
   "cell_type": "code",
   "execution_count": null,
   "id": "f746d3d3",
   "metadata": {},
   "outputs": [],
   "source": [
    "import warnings\n",
    "warnings.filterwarnings('ignore')"
   ]
  },
  {
   "cell_type": "code",
   "execution_count": null,
   "id": "260339c1",
   "metadata": {},
   "outputs": [],
   "source": [
    "driver = webdriver.Chrome('/Users/rohit_manral/Downloads/chromedriver')"
   ]
  },
  {
   "cell_type": "code",
   "execution_count": null,
   "id": "c9e8d598",
   "metadata": {},
   "outputs": [],
   "source": []
  },
  {
   "cell_type": "markdown",
   "id": "3551b86f",
   "metadata": {},
   "source": [
    "# Getting the access of `ACT Builder's` official website"
   ]
  },
  {
   "cell_type": "code",
   "execution_count": null,
   "id": "2742a6da",
   "metadata": {},
   "outputs": [],
   "source": [
    "driver.get('https://www.accesscanberra.act.gov.au/s/public-registers/construction-licences?registerid=m0I4a00000000CHEAY')\n",
    "time.sleep(2)"
   ]
  },
  {
   "cell_type": "markdown",
   "id": "0a95a0c8",
   "metadata": {},
   "source": [
    "#### Finding number of pages of the data "
   ]
  },
  {
   "cell_type": "code",
   "execution_count": null,
   "id": "dfd182a3",
   "metadata": {},
   "outputs": [],
   "source": [
    "pages=driver.find_element_by_xpath('/html/body/div[3]/div[3]/div/div/div/div/div/div/div[3]/div/div/div[2]/c-cxs-public-registers-construction/div/div[6]/p').text\n",
    "#pages\n",
    "\n",
    "numbers = []\n",
    "for word in pages.split():\n",
    "    if word.isdigit():\n",
    "        numbers.append(int(word))\n",
    "print(numbers[1]) #no. of pages"
   ]
  },
  {
   "cell_type": "code",
   "execution_count": null,
   "id": "821af8c1",
   "metadata": {},
   "outputs": [],
   "source": []
  },
  {
   "cell_type": "markdown",
   "id": "e032ee18",
   "metadata": {},
   "source": [
    "## First Page  \n",
    "### Main program to get `Headers` & `all the data rows` of just the `first page`"
   ]
  },
  {
   "cell_type": "code",
   "execution_count": null,
   "id": "4fb17f90",
   "metadata": {},
   "outputs": [],
   "source": [
    "page_source = driver.page_source\n",
    "soup =  BeautifulSoup(page_source, 'lxml')\n",
    "            \n",
    "headers = [i.text for i in soup.findAll('th')]\n",
    "headers = headers[:-1]\n",
    "print(headers)"
   ]
  },
  {
   "cell_type": "code",
   "execution_count": null,
   "id": "3965719f",
   "metadata": {},
   "outputs": [],
   "source": [
    "xpaths=[]\n",
    "for j in range(1,11): #creating xpaths: just change span[i] to click different links\n",
    "    xpaths.append('/html/body/div[3]/div[3]/div/div/div/div/div/div/div[3]/div/div/div[2]/c-cxs-public-registers-construction/div/div[5]/div/div/table/tbody/tr['+str(j) + ']/td[6]/lightning-button/button')\n",
    "#print(xpaths) "
   ]
  },
  {
   "cell_type": "code",
   "execution_count": null,
   "id": "31658efa",
   "metadata": {},
   "outputs": [],
   "source": []
  },
  {
   "cell_type": "markdown",
   "id": "6e0367bc",
   "metadata": {},
   "source": [
    "## All pages now  \n",
    "### Main program to get `all the data rows` of all the pages `till last page`"
   ]
  },
  {
   "cell_type": "code",
   "execution_count": null,
   "id": "59c6274c",
   "metadata": {},
   "outputs": [],
   "source": [
    "licensee_detail=[]"
   ]
  },
  {
   "cell_type": "code",
   "execution_count": null,
   "id": "67a84098",
   "metadata": {},
   "outputs": [],
   "source": [
    "for i in range(1, numbers[1]+1):\n",
    "    \n",
    "    page_source = driver.page_source\n",
    "    soup =  BeautifulSoup(page_source, 'lxml')       \n",
    "    \n",
    "    data = [j.text for j in soup.findAll('td')]\n",
    "    all_names= data[::6]\n",
    "    \n",
    "    \n",
    "    for k in range(1,11): \n",
    "        \n",
    "        driver.find_element_by_xpath(xpaths[k-1]).click()\n",
    "        #time.sleep(1)\n",
    "    \n",
    "        page_source = driver.page_source\n",
    "        soup = BeautifulSoup(page_source, 'lxml')\n",
    "            \n",
    "        det= [l.text for l in soup.findAll('td')]\n",
    "        det=det[1:]\n",
    "        #det\n",
    "\n",
    "        ab=[]\n",
    "        ab=det[::2]\n",
    "\n",
    "        ab.insert(0,all_names[k-1])\n",
    "        #ab\n",
    "\n",
    "        licensee_detail.append(ab)\n",
    "    \n",
    "        driver.find_element_by_xpath('/html/body/div[3]/div[3]/div/div/div/div/div/div/div[3]/div/div/div[2]/c-cxs-public-registers-construction/div/div/lightning-button/button').click()\n",
    "        \n",
    "        \n",
    "    # click to next page\n",
    "    driver.find_element_by_xpath('/html/body/div[3]/div[3]/div/div/div/div/div/div/div[3]/div/div/div[2]/c-cxs-public-registers-construction/div/div[6]/div[4]/button').click()\n",
    "    #time.sleep(1)"
   ]
  },
  {
   "cell_type": "code",
   "execution_count": null,
   "id": "b41efd94",
   "metadata": {},
   "outputs": [],
   "source": [
    "licensee_detail[0]"
   ]
  },
  {
   "cell_type": "code",
   "execution_count": null,
   "id": "e6a7cdcf",
   "metadata": {},
   "outputs": [],
   "source": [
    "licensee_detail[-1]"
   ]
  },
  {
   "cell_type": "code",
   "execution_count": null,
   "id": "47613907",
   "metadata": {},
   "outputs": [],
   "source": [
    "len(licensee_detail)"
   ]
  },
  {
   "cell_type": "code",
   "execution_count": null,
   "id": "274c50e2",
   "metadata": {},
   "outputs": [],
   "source": [
    "df_builder = pd.DataFrame(licensee_detail, columns = ['Name of Individual or Company', 'License Number','Expiry Date','Occupation','Class','Class Condition / Endorsement'])\n",
    "df_builder"
   ]
  },
  {
   "cell_type": "code",
   "execution_count": null,
   "id": "d589a819",
   "metadata": {},
   "outputs": [],
   "source": [
    "df_builder.shape"
   ]
  },
  {
   "cell_type": "code",
   "execution_count": null,
   "id": "ffd70a32",
   "metadata": {},
   "outputs": [],
   "source": []
  },
  {
   "cell_type": "code",
   "execution_count": null,
   "id": "d2d4ad43",
   "metadata": {},
   "outputs": [],
   "source": [
    "df_builder.to_csv('ACT_Builders.csv')"
   ]
  },
  {
   "cell_type": "code",
   "execution_count": null,
   "id": "08ba1fdb",
   "metadata": {},
   "outputs": [],
   "source": []
  },
  {
   "cell_type": "code",
   "execution_count": null,
   "id": "47237f27",
   "metadata": {},
   "outputs": [],
   "source": []
  },
  {
   "cell_type": "code",
   "execution_count": null,
   "id": "063b46d0",
   "metadata": {},
   "outputs": [],
   "source": []
  },
  {
   "cell_type": "code",
   "execution_count": null,
   "id": "4227341f",
   "metadata": {},
   "outputs": [],
   "source": []
  }
 ],
 "metadata": {
  "kernelspec": {
   "display_name": "Python 3 (ipykernel)",
   "language": "python",
   "name": "python3"
  },
  "language_info": {
   "codemirror_mode": {
    "name": "ipython",
    "version": 3
   },
   "file_extension": ".py",
   "mimetype": "text/x-python",
   "name": "python",
   "nbconvert_exporter": "python",
   "pygments_lexer": "ipython3",
   "version": "3.9.7"
  }
 },
 "nbformat": 4,
 "nbformat_minor": 5
}
